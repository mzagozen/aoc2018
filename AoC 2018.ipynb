{
 "cells": [
  {
   "cell_type": "code",
   "execution_count": 1,
   "metadata": {},
   "outputs": [],
   "source": [
    "import itertools\n",
    "import collections\n",
    "import re\n",
    "import random\n",
    "\n",
    "def read_input(day):\n",
    "    \"\"\"Read the input file for the day\"\"\"\n",
    "    filename = 'input/input{}.txt'.format(day)\n",
    "    with open(filename) as f:\n",
    "        yield from f.read().splitlines()"
   ]
  },
  {
   "cell_type": "markdown",
   "metadata": {},
   "source": [
    "# Day 1: Chronal Calibration\n",
    "\n",
    "## Part 1\n",
    "\n",
    "\n",
    "> For example, if the device displays frequency changes of +1, -2, +3, +1, then starting from a frequency of zero, the following changes would occur:\n",
    "\n",
    "> Current frequency  0, change of +1; resulting frequency  1.\n",
    "> Current frequency  1, change of -2; resulting frequency -1.\n",
    "> Current frequency -1, change of +3; resulting frequency  2.\n",
    "> Current frequency  2, change of +1; resulting frequency  3.\n",
    "> In this example, the resulting frequency is 3.\n",
    "\n",
    "\n",
    "Straightforward, just sum all the numbers in the input file.\n"
   ]
  },
  {
   "cell_type": "code",
   "execution_count": 2,
   "metadata": {},
   "outputs": [
    {
     "data": {
      "text/plain": [
       "497"
      ]
     },
     "execution_count": 2,
     "metadata": {},
     "output_type": "execute_result"
    }
   ],
   "source": [
    "sum(int(x) for x in read_input(1))"
   ]
  },
  {
   "cell_type": "markdown",
   "metadata": {},
   "source": [
    "## Part 2\n",
    "\n",
    "> You notice that the device repeats the same frequency change list over and over. To calibrate the device, you need to find the first frequency it reaches twice.\n",
    "\n",
    "Now we need to loop through the input list and keep track of already seen frequencies."
   ]
  },
  {
   "cell_type": "code",
   "execution_count": 3,
   "metadata": {},
   "outputs": [
    {
     "data": {
      "text/plain": [
       "558"
      ]
     },
     "execution_count": 3,
     "metadata": {},
     "output_type": "execute_result"
    }
   ],
   "source": [
    "def first_duplicate(L):\n",
    "    f = 0\n",
    "    seen = set()\n",
    "    for fc in itertools.cycle(L):\n",
    "        f += int(fc)\n",
    "        if f in seen:\n",
    "            return f\n",
    "        else:\n",
    "            seen.add(f)\n",
    "\n",
    "first_duplicate(read_input(1))"
   ]
  },
  {
   "cell_type": "markdown",
   "metadata": {},
   "source": [
    "# Day 2: Inventory Management System\n",
    "\n",
    "## Part 1\n",
    "\n",
    "\n",
    "> To make sure you didn't miss any, you scan the likely candidate boxes again, counting the number that have an ID containing exactly two of any letter and then separately counting those with exactly three of any letter. You can multiply those two counts together to get a rudimentary checksum and compare it to what your device predicts.\n",
    "\n",
    "OK, so we first need to determine the frequency of characters in the inventory ID. `collections.Counter` to the rescue!\n",
    "\n",
    "The `magic_frequency` function will, for a given string, return the resunt of the `[2x, 3x]` character test.\n",
    "Afterwards, we need to sum these results. `zip()` can be used to transform the `[[2x_1, 3x_1], .. [2x_n, 3x_n]]` list to `[[2x_1, .. 2x_n], [3x_1, .. 3x_n]]`."
   ]
  },
  {
   "cell_type": "code",
   "execution_count": 4,
   "metadata": {},
   "outputs": [
    {
     "data": {
      "text/plain": [
       "5456"
      ]
     },
     "execution_count": 4,
     "metadata": {},
     "output_type": "execute_result"
    }
   ],
   "source": [
    "def magic_frequency(s):\n",
    "    \"\"\"Determine if the given string contains 2x letter or 3x letter, return list\"\"\"\n",
    "    freq = collections.Counter(s)\n",
    "    c = [0,0]\n",
    "    if 2 in freq.values():\n",
    "        c[0] = 1\n",
    "    if 3 in freq.values():\n",
    "        c[1] = 1\n",
    "    return c\n",
    "\n",
    "assert(magic_frequency('abcdef') == [0,0])\n",
    "assert(magic_frequency('bababc') == [1,1])\n",
    "\n",
    "checksum = list(zip(*[magic_frequency(s) for s in read_input(2)]))\n",
    "sum(checksum[0]) * sum(checksum[1])"
   ]
  },
  {
   "cell_type": "markdown",
   "metadata": {},
   "source": [
    "## Part 2\n",
    "Now we need to find two inventory IDs that differ by exactly one character. In other words, need to find two strings with edit distance of 1. First, let's sort the inputs, then compare only the neighbors"
   ]
  },
  {
   "cell_type": "code",
   "execution_count": 5,
   "metadata": {},
   "outputs": [
    {
     "data": {
      "text/plain": [
       "'megsdlpulxvinkatfoyzxcbvq'"
      ]
     },
     "execution_count": 5,
     "metadata": {},
     "output_type": "execute_result"
    }
   ],
   "source": [
    "def edit_distance(s1, s2):\n",
    "    m=len(s1)+1\n",
    "    n=len(s2)+1\n",
    "\n",
    "    tbl = {}\n",
    "    for i in range(m): tbl[i,0]=i\n",
    "    for j in range(n): tbl[0,j]=j\n",
    "    for i in range(1, m):\n",
    "        for j in range(1, n):\n",
    "            cost = 0 if s1[i-1] == s2[j-1] else 1\n",
    "            tbl[i,j] = min(tbl[i, j-1]+1, tbl[i-1, j]+1, tbl[i-1, j-1]+cost)\n",
    "\n",
    "    return tbl[i,j]\n",
    "\n",
    "def find_inventory(L):\n",
    "    L.sort()\n",
    "    for idx, t in enumerate(L):\n",
    "        if idx == 0:\n",
    "            continue\n",
    "        if edit_distance(t, L[idx-1]) == 1:\n",
    "            same = ''\n",
    "            for c_idx, c in enumerate(t):\n",
    "                if c == L[idx-1][c_idx]:\n",
    "                    same += c\n",
    "            return same\n",
    "\n",
    "assert(find_inventory(['fghij', 'fguij']) == 'fgij')\n",
    "find_inventory(list(read_input(2)))"
   ]
  },
  {
   "cell_type": "markdown",
   "metadata": {},
   "source": [
    "# Day 3: No Matter How You Slice It\n",
    "\n",
    "## Part 1\n",
    "\n",
    "> Each Elf has made a claim about which area of fabric would be ideal for Santa's suit. All claims have an ID and consist of a single rectangle with edges parallel to the edges of the fabric. \n",
    "\n",
    "> If the Elves all proceed with their own plans, none of them will have enough fabric. How many square inches of fabric are within two or more claims?\n",
    "\n",
    "The grid size is not given, but in this case, we can \"cheat\" since all the inputs are known on the website ;) A cursory look at my input data lets me know the grid is 1000x1000.\n",
    "\n",
    "Given this constraint, it is feasible to go for a naivé solution - just create the whole grid in memory as a 2-d list, where each cell represents a point on the grid. We could even visualise the data in an image. This seems like a fun distraction, but let's focus on the problem.\n",
    "\n",
    "First, let's parse the input lines from the format `#788 @ 16,688: 23x17`:"
   ]
  },
  {
   "cell_type": "code",
   "execution_count": 6,
   "metadata": {},
   "outputs": [],
   "source": [
    "class FabricClaim(object):\n",
    "    \"\"\"Parser for the input data fabric claim\"\"\"\n",
    "    def __init__(self, s):\n",
    "        match = re.search(r'^#(\\d+) @ (\\d+),(\\d+): (\\d+)x(\\d+)$', s)\n",
    "        self.id, self.left, self.top, self.width, self.height = map(int, match.groups())\n",
    "    \n",
    "    def rectangle(self):\n",
    "        \"\"\"Return a tuple of rectangle coordinates\"\"\"\n",
    "        return (self.left, self.top, self.left + self.width, self.top + self.height)"
   ]
  },
  {
   "cell_type": "markdown",
   "metadata": {},
   "source": [
    "Now we can build the fabric grid and mark the claimed pieces. Instead of allocating a 1000x1000 list of lists immediately, I'll use a `dict` with coordinates as keys, and fabric claims as values. This may be more efficient, depening on the number of claims."
   ]
  },
  {
   "cell_type": "code",
   "execution_count": 7,
   "metadata": {},
   "outputs": [
    {
     "data": {
      "text/plain": [
       "105231"
      ]
     },
     "execution_count": 7,
     "metadata": {},
     "output_type": "execute_result"
    }
   ],
   "source": [
    "def build_claim_map(L):\n",
    "    \"\"\"Build a claim map dictionary of (x,y) coords with a set of claim IDs\"\"\"\n",
    "    claimed = collections.defaultdict(set)\n",
    "    for fc in map(FabricClaim, L):\n",
    "        for coords in itertools.product(range(fc.left, fc.left + fc.width),\n",
    "                                        range(fc.top, fc.top + fc.height)):\n",
    "            claimed[coords].add(fc.id)\n",
    "    return claimed\n",
    "\n",
    "def find_overlapping_claims(claim_map):\n",
    "    # sum up all the True values where a grid part has >1 claims\n",
    "    return sum([len(x) > 1 for x in claim_map.values()])\n",
    "\n",
    "assert(find_overlapping_claims(build_claim_map('''#1 @ 1,3: 4x4\n",
    "#2 @ 3,1: 4x4\n",
    "#3 @ 5,5: 2x2'''.split('\\n'))) == 4)\n",
    "\n",
    "find_overlapping_claims(build_claim_map(read_input(3)))"
   ]
  },
  {
   "cell_type": "markdown",
   "metadata": {},
   "source": [
    "## Part 2\n",
    "> Amidst the chaos, you notice that exactly one claim doesn't overlap by even a single square inch of fabric with any other claim. If you can somehow draw attention to it, maybe the Elves will be able to make Santa's suit after all!\n",
    "\n",
    "Let's find that lucky elf! We can use the `build_claim_map` function from before, with an additional enhancement for recording if claim `k` overlaps with claim `l`. We will keep track of this in another `dict` containing individual claims."
   ]
  },
  {
   "cell_type": "code",
   "execution_count": 8,
   "metadata": {},
   "outputs": [],
   "source": [
    "def build_claim_map_and_overlaps(L):\n",
    "    \"\"\"Build a claim map dictionary of (x,y) coords with a set of claim IDs\n",
    "    \n",
    "    Return the claim_map and a dict of claims with their overlaps\"\"\"\n",
    "    claim_map = collections.defaultdict(set)\n",
    "    overlaps = {}\n",
    "    for fc in map(FabricClaim, L):\n",
    "        overlaps[fc.id] = set()\n",
    "        for coords in itertools.product(range(fc.left, fc.left + fc.width),\n",
    "                                        range(fc.top, fc.top + fc.height)):\n",
    "            # someone has already claimed this piece\n",
    "            for claim in claim_map[coords]:\n",
    "                overlaps[fc.id].add(claim)\n",
    "                overlaps[claim].add(fc.id)\n",
    "            claim_map[coords].add(fc.id)\n",
    "            \n",
    "    return claim_map, overlaps"
   ]
  },
  {
   "cell_type": "markdown",
   "metadata": {},
   "source": [
    "We could also use this function for Part 1. I won't bother refactoring it right now. To find non-overlapping claims, we look at the overlaps dictionary and identify claims with no known overlaps."
   ]
  },
  {
   "cell_type": "code",
   "execution_count": 9,
   "metadata": {},
   "outputs": [
    {
     "data": {
      "text/plain": [
       "164"
      ]
     },
     "execution_count": 9,
     "metadata": {},
     "output_type": "execute_result"
    }
   ],
   "source": [
    "def find_non_overlapping_claims(overlaps):\n",
    "    non_overlaps = [claim_id for claim_id, overlap in overlaps.items() if overlap == set()]\n",
    "    assert(len(non_overlaps) == 1)\n",
    "    return non_overlaps[0]\n",
    "\n",
    "assert(find_non_overlapping_claims(build_claim_map_and_overlaps('''#1 @ 1,3: 4x4\n",
    "#2 @ 3,1: 4x4\n",
    "#3 @ 5,5: 2x2'''.split('\\n'))[1]) == 3)\n",
    "\n",
    "find_non_overlapping_claims(build_claim_map_and_overlaps(read_input(3))[1])"
   ]
  },
  {
   "cell_type": "markdown",
   "metadata": {},
   "source": [
    "Indeed, only one non-overlapping claim is found!\n",
    "\n",
    "I was interested in how the claims were actually spread around. We can visualise it by drawing all claims on a 1000x1000 image! The code below requires `Pillow`."
   ]
  },
  {
   "cell_type": "code",
   "execution_count": 10,
   "metadata": {},
   "outputs": [
    {
     "data": {
      "image/png": "[encoded data removed]",
      "text/plain": [
       "<PIL.Image.Image image mode=RGB size=1000x1000 at 0x1087AA278>"
      ]
     },
     "metadata": {},
     "output_type": "display_data"
    }
   ],
   "source": [
    "from PIL import Image, ImageDraw\n",
    "import IPython\n",
    "random.seed(42)\n",
    "image = Image.new('RGB', (1000, 1000))\n",
    "draw = ImageDraw.Draw(image)\n",
    "for fc in (FabricClaim(s) for s in read_input(3)):\n",
    "    draw.rectangle(fc.rectangle(), fill=(random.randint(1, 255), random.randint(1, 255), random.randint(1, 255)))\n",
    "IPython.display.display(image)"
   ]
  },
  {
   "cell_type": "markdown",
   "metadata": {},
   "source": [
    "# Day 4: Repose Record\n",
    "\n",
    "## Part 1\n",
    "\n",
    "> As you search the closet for anything that might help, you discover that you're not the first person to want to sneak in. Covering the walls, someone has spent an hour starting every midnight for the past few months secretly observing this guard post! They've been writing down the ID of the one guard on duty that night - the Elves seem to have decided that one guard was enough for the overnight shift - as well as when they fall asleep or wake up while at their post (your puzzle input).\n",
    "\n",
    "> If you can figure out the guard most likely to be asleep at a specific time, you might be able to trick that guard into working tonight so you can have the best chance of sneaking in. You have two strategies for choosing the best guard/minute combination.\n",
    "\n",
    "The input data looks like this:\n",
    "\n",
    "```\n",
    "[1518-11-01 00:00] Guard #10 begins shift\n",
    "[1518-11-01 00:05] falls asleep\n",
    "[1518-11-01 00:25] wakes up\n",
    "[1518-11-01 00:30] falls asleep\n",
    "[1518-11-01 00:55] wakes up\n",
    "[1518-11-01 23:58] Guard #99 begins shift\n",
    "```\n",
    "\n",
    "> The guard falling asleep or waking up is always the one whose shift most recently started. Because all asleep/awake times are during the midnight hour (00:00 - 00:59), only the minute portion (00 - 59) is relevant for those events.\n",
    "\n",
    "This is important to know when parsing the data. A single guard is on duty, and we only care about the hour after midnight.\n",
    "\n",
    "> Strategy 1: Find the guard that has the most minutes asleep. What minute does that guard spend asleep the most?\n",
    "\n",
    "To identify the sleepiest guard, we need to be able to calculate total sleep time across all shifts. The input data may not be sorted, so we'll do that first. Since the time format is ISO8601-comptible (starts with the biggest unit - year, followed by progressively smaller), we can just sort the lines as strings. For every guard, we need to keep track of two things:\n",
    "1. total sleep time,\n",
    "2. which minutes they were sleeping.\n",
    "\n",
    "Since all sleeping occurs in the midnight hour, we can get away with storing per-minute sleeping records for a guard in a dict, then pick the highest one. Like a lot of things in Python, we can reuse the existing `collections.Counter` class (seen in a previous day). Any hashable object can be _counted_ and the class has a convenient `most_common(n)` method for retrieving the most common objects."
   ]
  },
  {
   "cell_type": "code",
   "execution_count": 45,
   "metadata": {},
   "outputs": [
    {
     "data": {
      "text/plain": [
       "76357"
      ]
     },
     "execution_count": 45,
     "metadata": {},
     "output_type": "execute_result"
    }
   ],
   "source": [
    "def collect_guard_sleeps(L):\n",
    "    # total time slept by Guard\n",
    "    total_sleep = collections.defaultdict(int)\n",
    "    # counter for keeping track of minutes slept\n",
    "    sleep_minutes = collections.defaultdict(collections.Counter)\n",
    "    for l in sorted(L):\n",
    "        if 'Guard' in l:\n",
    "            guard = re.search(r'#(\\d+)', l).groups()[0]\n",
    "        elif 'falls asleep' in l:\n",
    "            sleep = int(re.search('(\\d+)\\]', l).groups()[0])\n",
    "        elif 'wakes up' in l:\n",
    "            wake = int(re.search('(\\d+)\\]', l).groups()[0])\n",
    "            sleep_minutes[guard].update(range(sleep, wake))\n",
    "            total_sleep[guard] += wake - sleep\n",
    "    return total_sleep, sleep_minutes\n",
    "\n",
    "def sleep_strategy_1(total_sleep, sleep_minutes):\n",
    "    best_guard = max(total_sleep.items(), key=lambda x: x[1])[0]\n",
    "    # Counter.most_common(1) returns the most common elements as a list of tuples: [(12, 33)]\n",
    "    best_minute = sleep_minutes[best_guard].most_common(1)[0][0]\n",
    "    return best_minute * int(best_guard)\n",
    "    \n",
    "total_sleep, sleep_minutes = collect_guard_sleeps('''[1518-11-01 00:00] Guard #10 begins shift\n",
    "[1518-11-01 00:05] falls asleep\n",
    "[1518-11-01 00:25] wakes up\n",
    "[1518-11-01 00:30] falls asleep\n",
    "[1518-11-01 00:55] wakes up\n",
    "[1518-11-01 23:58] Guard #99 begins shift\n",
    "[1518-11-02 00:40] falls asleep\n",
    "[1518-11-02 00:50] wakes up\n",
    "[1518-11-03 00:05] Guard #10 begins shift\n",
    "[1518-11-03 00:24] falls asleep\n",
    "[1518-11-03 00:29] wakes up\n",
    "[1518-11-04 00:02] Guard #99 begins shift\n",
    "[1518-11-04 00:36] falls asleep\n",
    "[1518-11-04 00:46] wakes up\n",
    "[1518-11-05 00:03] Guard #99 begins shift\n",
    "[1518-11-05 00:45] falls asleep\n",
    "[1518-11-05 00:55] wakes up'''.split('\\n'))\n",
    "\n",
    "assert(sleep_strategy_1(total_sleep, sleep_minutes) == 240)\n",
    "\n",
    "sleep_strategy_1(*collect_guard_sleeps(read_input(4)))"
   ]
  },
  {
   "cell_type": "markdown",
   "metadata": {},
   "source": [
    "## Part 2\n",
    "\n",
    "> Of all guards, which guard is most frequently asleep on the same minute?\n",
    "\n",
    "Using `Counter` was a good choice. For the second strategy, we must find the guard with the most time spent asleep within the same minute."
   ]
  },
  {
   "cell_type": "code",
   "execution_count": 76,
   "metadata": {},
   "outputs": [
    {
     "data": {
      "text/plain": [
       "41668"
      ]
     },
     "execution_count": 76,
     "metadata": {},
     "output_type": "execute_result"
    }
   ],
   "source": [
    "def sleep_strategy_2(sleep_minutes):\n",
    "    sleepiest_minute = {guard: (sleeps.most_common(1)[0][0], sleeps.most_common(1)[0][1]) for guard, sleeps in sleep_minutes.items()}\n",
    "    best_guard = max(sleepiest_minute.items(), key=lambda x: x[1][1])\n",
    "    return int(best_guard[0]) * best_guard[1][0]\n",
    "\n",
    "assert(sleep_strategy_2(sleep_minutes) == 4455)\n",
    "sleep_strategy_2(collect_guard_sleeps(read_input(4))[1])"
   ]
  },
  {
   "cell_type": "code",
   "execution_count": null,
   "metadata": {},
   "outputs": [],
   "source": []
  }
 ],
 "metadata": {
  "kernelspec": {
   "display_name": "Python 3",
   "language": "python",
   "name": "python3"
  },
  "language_info": {
   "codemirror_mode": {
    "name": "ipython",
    "version": 3
   },
   "file_extension": ".py",
   "mimetype": "text/x-python",
   "name": "python",
   "nbconvert_exporter": "python",
   "pygments_lexer": "ipython3",
   "version": "3.7.1"
  }
 },
 "nbformat": 4,
 "nbformat_minor": 2
}
