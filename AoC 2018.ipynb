{
 "cells": [
  {
   "cell_type": "code",
   "execution_count": 1,
   "metadata": {},
   "outputs": [],
   "source": [
    "import itertools\n",
    "import collections\n",
    "\n",
    "def read_input(day):\n",
    "    \"\"\"Read the input file for the day\"\"\"\n",
    "    filename = 'input/input{}.txt'.format(day)\n",
    "    with open(filename) as f:\n",
    "        yield from f.read().splitlines()"
   ]
  },
  {
   "cell_type": "markdown",
   "metadata": {},
   "source": [
    "# Day 1: Chronal Calibration\n",
    "\n",
    "## Part 1\n",
    "\n",
    "\n",
    "> For example, if the device displays frequency changes of +1, -2, +3, +1, then starting from a frequency of zero, the following changes would occur:\n",
    "\n",
    "> Current frequency  0, change of +1; resulting frequency  1.\n",
    "> Current frequency  1, change of -2; resulting frequency -1.\n",
    "> Current frequency -1, change of +3; resulting frequency  2.\n",
    "> Current frequency  2, change of +1; resulting frequency  3.\n",
    "> In this example, the resulting frequency is 3.\n",
    "\n",
    "\n",
    "Straightforward, just sum all the numbers in the input file.\n"
   ]
  },
  {
   "cell_type": "code",
   "execution_count": 2,
   "metadata": {},
   "outputs": [
    {
     "data": {
      "text/plain": [
       "497"
      ]
     },
     "execution_count": 2,
     "metadata": {},
     "output_type": "execute_result"
    }
   ],
   "source": [
    "sum(int(x) for x in read_input(1))"
   ]
  },
  {
   "cell_type": "markdown",
   "metadata": {},
   "source": [
    "## Part 2\n",
    "\n",
    "> You notice that the device repeats the same frequency change list over and over. To calibrate the device, you need to find the first frequency it reaches twice.\n",
    "\n",
    "Now we need to loop through the input list and keep track of already seen frequencies."
   ]
  },
  {
   "cell_type": "code",
   "execution_count": 3,
   "metadata": {},
   "outputs": [
    {
     "data": {
      "text/plain": [
       "558"
      ]
     },
     "execution_count": 3,
     "metadata": {},
     "output_type": "execute_result"
    }
   ],
   "source": [
    "def first_duplicate(L):\n",
    "    f = 0\n",
    "    seen = set()\n",
    "    for fc in itertools.cycle(L):\n",
    "        f += int(fc)\n",
    "        if f in seen:\n",
    "            return f\n",
    "        else:\n",
    "            seen.add(f)\n",
    "\n",
    "first_duplicate(read_input(1))"
   ]
  },
  {
   "cell_type": "markdown",
   "metadata": {},
   "source": [
    "# Day 2: Inventory Management System\n",
    "\n",
    "## Part 1\n",
    "\n",
    "\n",
    "> To make sure you didn't miss any, you scan the likely candidate boxes again, counting the number that have an ID containing exactly two of any letter and then separately counting those with exactly three of any letter. You can multiply those two counts together to get a rudimentary checksum and compare it to what your device predicts.\n",
    "\n",
    "OK, so we first need to determine the frequency of characters in the inventory ID. `collections.Counter` to the rescue!\n",
    "\n",
    "The `magic_frequency` function will, for a given string, return the resunt of the `[2x, 3x]` character test.\n",
    "Afterwards, we need to sum these results. `zip()` can be used to transform the `[[2x_1, 3x_1], .. [2x_n, 3x_n]]` list to `[[2x_1, .. 2x_n], [3x_1, .. 3x_n]]`."
   ]
  },
  {
   "cell_type": "code",
   "execution_count": 4,
   "metadata": {},
   "outputs": [
    {
     "data": {
      "text/plain": [
       "5456"
      ]
     },
     "execution_count": 4,
     "metadata": {},
     "output_type": "execute_result"
    }
   ],
   "source": [
    "def magic_frequency(s):\n",
    "    \"\"\"Determine if the given string contains 2x letter or 3x letter, return list\"\"\"\n",
    "    freq = collections.Counter(s)\n",
    "    c = [0,0]\n",
    "    if 2 in freq.values():\n",
    "        c[0] = 1\n",
    "    if 3 in freq.values():\n",
    "        c[1] = 1\n",
    "    return c\n",
    "\n",
    "assert(magic_frequency('abcdef') == [0,0])\n",
    "assert(magic_frequency('bababc') == [1,1])\n",
    "\n",
    "checksum = list(zip(*[magic_frequency(s) for s in read_input(2)]))\n",
    "sum(checksum[0]) * sum(checksum[1])"
   ]
  },
  {
   "cell_type": "markdown",
   "metadata": {},
   "source": [
    "## Part 2\n",
    "Now we need to find two inventory IDs that differ by exactly one character. In other words, need to find two strings with edit distance of 1. First, let's sort the inputs, then compare only the neighbors"
   ]
  },
  {
   "cell_type": "code",
   "execution_count": 5,
   "metadata": {},
   "outputs": [
    {
     "data": {
      "text/plain": [
       "'megsdlpulxvinkatfoyzxcbvq'"
      ]
     },
     "execution_count": 5,
     "metadata": {},
     "output_type": "execute_result"
    }
   ],
   "source": [
    "def edit_distance(s1, s2):\n",
    "    m=len(s1)+1\n",
    "    n=len(s2)+1\n",
    "\n",
    "    tbl = {}\n",
    "    for i in range(m): tbl[i,0]=i\n",
    "    for j in range(n): tbl[0,j]=j\n",
    "    for i in range(1, m):\n",
    "        for j in range(1, n):\n",
    "            cost = 0 if s1[i-1] == s2[j-1] else 1\n",
    "            tbl[i,j] = min(tbl[i, j-1]+1, tbl[i-1, j]+1, tbl[i-1, j-1]+cost)\n",
    "\n",
    "    return tbl[i,j]\n",
    "\n",
    "def find_inventory(L):\n",
    "    L.sort()\n",
    "    for idx, t in enumerate(L):\n",
    "        if idx == 0:\n",
    "            continue\n",
    "        if edit_distance(t, L[idx-1]) == 1:\n",
    "            same = ''\n",
    "            for c_idx, c in enumerate(t):\n",
    "                if c == L[idx-1][c_idx]:\n",
    "                    same += c\n",
    "            return same\n",
    "\n",
    "find_inventory(list(read_input(2)))"
   ]
  },
  {
   "cell_type": "code",
   "execution_count": null,
   "metadata": {},
   "outputs": [],
   "source": []
  }
 ],
 "metadata": {
  "kernelspec": {
   "display_name": "Python 3",
   "language": "python",
   "name": "python3"
  },
  "language_info": {
   "codemirror_mode": {
    "name": "ipython",
    "version": 3
   },
   "file_extension": ".py",
   "mimetype": "text/x-python",
   "name": "python",
   "nbconvert_exporter": "python",
   "pygments_lexer": "ipython3",
   "version": "3.7.1"
  }
 },
 "nbformat": 4,
 "nbformat_minor": 2
}
